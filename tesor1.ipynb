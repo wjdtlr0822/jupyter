{
 "cells": [
  {
   "cell_type": "code",
   "execution_count": 5,
   "metadata": {},
   "outputs": [
    {
     "name": "stdout",
     "output_type": "stream",
     "text": [
      "0 11325038.0 [452.6207] [25.37426] [3646.3398]\n",
      "500 951961.2 [1177.8727] [-0.35166866] [9422.63]\n",
      "1000 951805.5 [1182.741] [-24.459051] [9437.469]\n",
      "1500 951802.0 [1183.4504] [-27.971848] [9439.632]\n",
      "2000 951801.9 [1183.5538] [-28.48408] [9439.946]\n",
      "2500 951801.94 [1183.5686] [-28.557846] [9439.991]\n",
      "3000 951802.06 [1183.5706] [-28.567848] [9439.997]\n",
      "3500 951802.2 [1183.5707] [-28.568481] [9439.997]\n",
      "4000 951802.2 [1183.5707] [-28.568481] [9439.997]\n",
      "4500 951802.2 [1183.5707] [-28.568481] [9439.997]\n",
      "5000 951802.2 [1183.5707] [-28.568481] [9439.997]\n",
      "1\n"
     ]
    }
   ],
   "source": [
    "import tensorflow as tf\n",
    "\n",
    "xData=[1,2,3,4,5,6,7]\n",
    "yData=[1000,2200,3120,6500,4380,7940,7800]\n",
    "W=tf.Variable(tf.random_uniform([1],-100,100))\n",
    "b=tf.Variable(tf.random_uniform([1],-100,100))\n",
    "x=tf.placeholder(tf.float32)\n",
    "y=tf.placeholder(tf.float32)  #실제값\n",
    "H=W*x+b                       #측정값\n",
    "cost=tf.reduce_mean(tf.square(H-y))  #tf.square는 제곱 / reduce_mean()은 평균\n",
    "a=tf.Variable(0.01) #경사하강 알고리즘에서 얼만큼 점프할껀지 결정\n",
    "optimizer=tf.train.GradientDescentOptimizer(a) #Tensorflow에서 경사하강을 알고리즘으로 만든게 GradientDescentOptimizer\n",
    "\n",
    "train=optimizer.minimize(cost) #실제로 비용함수를 가장 적게 만드는 과정\n",
    "init=tf.global_variables_initializer() #변수초기화(?)\n",
    "sess=tf.Session()\n",
    "sess.run(init) #init을 초기화(?)\n",
    "for i in range(5001):\n",
    "    sess.run(train,feed_dict={x:xData,y:yData}) #train 실행\n",
    "    if i %500==0:\n",
    "        print(i,sess.run(cost,feed_dict={x:xData,y:yData}),sess.run(W),sess.run(b),sess.run(H,feed_dict={x:8}))\n",
    "print(sess.run(H,feed_dict={x:[9]}))"
   ]
  },
  {
   "cell_type": "code",
   "execution_count": null,
   "metadata": {},
   "outputs": [],
   "source": []
  }
 ],
 "metadata": {
  "kernelspec": {
   "display_name": "Python 3",
   "language": "python",
   "name": "python3"
  },
  "language_info": {
   "codemirror_mode": {
    "name": "ipython",
    "version": 3
   },
   "file_extension": ".py",
   "mimetype": "text/x-python",
   "name": "python",
   "nbconvert_exporter": "python",
   "pygments_lexer": "ipython3",
   "version": "3.5.6"
  }
 },
 "nbformat": 4,
 "nbformat_minor": 4
}
