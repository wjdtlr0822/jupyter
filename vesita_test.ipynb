{
 "cells": [
  {
   "cell_type": "code",
   "execution_count": 1,
   "metadata": {},
   "outputs": [],
   "source": [
    "import tensorflow as tf\n",
    "import numpy as np\n",
    "from pandas.io.parsers import read_csv\n",
    "\n",
    "data=read_csv('./data2.csv',sep=',')"
   ]
  },
  {
   "cell_type": "code",
   "execution_count": 2,
   "metadata": {},
   "outputs": [
    {
     "name": "stdout",
     "output_type": "stream",
     "text": [
      "      avgTemp  minTemp  maxTemp  fainFall  avgPrice\n",
      "0         1.2    -11.0      0.9       0.0      2123\n",
      "1         0.9     -5.5      5.5       0.8      2123\n",
      "2         1.8     -6.9      1.4       0.0      2123\n",
      "3         2.3     -5.1      2.2       5.9      2020\n",
      "4         2.2     -8.7     -1.8       0.7      2060\n",
      "...       ...      ...      ...       ...       ...\n",
      "2916      2.3     -4.9      4.1       0.1      2823\n",
      "2917      0.8     -8.0      0.7       0.0      2865\n",
      "2918      1.1     -6.9      3.7       0.0      2884\n",
      "2919      0.8     -2.1      8.0       0.0      2901\n",
      "2920      2.6     -1.6      7.1       0.6      2901\n",
      "\n",
      "[2921 rows x 5 columns]\n"
     ]
    }
   ],
   "source": [
    "print(data)"
   ]
  },
  {
   "cell_type": "code",
   "execution_count": 3,
   "metadata": {},
   "outputs": [],
   "source": [
    "xy=np.array(data,dtype=np.float32)"
   ]
  },
  {
   "cell_type": "code",
   "execution_count": 4,
   "metadata": {},
   "outputs": [],
   "source": [
    "x_data=xy[:,0:-1]\n",
    "y_data=xy[:,[-1]]"
   ]
  },
  {
   "cell_type": "code",
   "execution_count": 5,
   "metadata": {},
   "outputs": [],
   "source": [
    "X=tf.placeholder(tf.float32,shape=[None,4])\n",
    "Y=tf.placeholder(tf.float32,shape=[None,1])\n",
    "W=tf.Variable(tf.random_normal([4,1]),name='Weight')\n",
    "b=tf.Variable(tf.random_normal([1]),name='binary')"
   ]
  },
  {
   "cell_type": "code",
   "execution_count": 6,
   "metadata": {},
   "outputs": [],
   "source": [
    "H=tf.matmul(X,W)+b\n",
    "cost=tf.reduce_mean(tf.square(H-Y))\n",
    "optimizer=tf.train.GradientDescentOptimizer(learning_rate=0.0000005)\n",
    "train=optimizer.minimize(cost)"
   ]
  },
  {
   "cell_type": "code",
   "execution_count": 7,
   "metadata": {},
   "outputs": [],
   "source": [
    "sess=tf.Session()\n",
    "sess.run(tf.global_variables_initializer())"
   ]
  },
  {
   "cell_type": "code",
   "execution_count": 8,
   "metadata": {},
   "outputs": [],
   "source": [
    "for i in range(10000001):\n",
    "    sess.run(train,feed_dict={X:x_data,Y:y_data})"
   ]
  },
  {
   "cell_type": "code",
   "execution_count": 9,
   "metadata": {},
   "outputs": [],
   "source": [
    "saver=tf.train.Saver()\n",
    "save_path=saver.save(sess,\"./test/saved.opkt\")"
   ]
  },
  {
   "cell_type": "code",
   "execution_count": null,
   "metadata": {},
   "outputs": [],
   "source": []
  }
 ],
 "metadata": {
  "kernelspec": {
   "display_name": "Python 3",
   "language": "python",
   "name": "python3"
  },
  "language_info": {
   "codemirror_mode": {
    "name": "ipython",
    "version": 3
   },
   "file_extension": ".py",
   "mimetype": "text/x-python",
   "name": "python",
   "nbconvert_exporter": "python",
   "pygments_lexer": "ipython3",
   "version": "3.5.6"
  }
 },
 "nbformat": 4,
 "nbformat_minor": 4
}
